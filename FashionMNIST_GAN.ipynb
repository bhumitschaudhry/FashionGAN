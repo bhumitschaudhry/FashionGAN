{
 "cells": [
  {
   "cell_type": "code",
   "execution_count": null,
   "metadata": {
    "id": "_W4GVaDSlOSf"
   },
   "outputs": [],
   "source": [
    "import torch\n",
    "torch.manual_seed(42)\n",
    "import numpy as np\n",
    "import matplotlib.pyplot as plt\n",
    "from torch.utils.data import DataLoader\n",
    "from torchvision.utils import make_grid\n",
    "from tqdm.notebook import tqdm\n",
    "from torchvision import datasets, transforms as T\n",
    "from torch import nn\n",
    "from torchsummary import summary"
   ]
  },
  {
   "cell_type": "code",
   "execution_count": null,
   "metadata": {
    "id": "5oUWVmkulOSi"
   },
   "outputs": [],
   "source": [
    "device = 'cuda'\n",
    "batch_size = 128\n",
    "noise_dim = 64\n",
    "# Optimizers Parameters\n",
    "lr = 0.0002\n",
    "beta_1 = 0.5\n",
    "beta_2 = 0.99\n",
    "# Training Variables\n",
    "epochs = 20"
   ]
  },
  {
   "cell_type": "code",
   "execution_count": null,
   "metadata": {
    "id": "rgy3ybgqIatq"
   },
   "outputs": [],
   "source": [
    "transform = T.Compose([\n",
    "    T.ToTensor(),\n",
    "    T.Normalize((0.5,), (0.5,))\n",
    "])\n",
    "trainset = datasets.FashionMNIST(root='./data', train = True, download = True, transform = transform)"
   ]
  },
  {
   "cell_type": "code",
   "execution_count": null,
   "metadata": {
    "id": "yDNysctVlOSl"
   },
   "outputs": [],
   "source": [
    "trainloader = DataLoader(trainset, batch_size = batch_size, shuffle = True)"
   ]
  },
  {
   "cell_type": "code",
   "execution_count": null,
   "metadata": {
    "colab": {
     "base_uri": "https://localhost:8080/"
    },
    "id": "yBKpRxYmebZW",
    "outputId": "1bdcdd5d-de6a-42cd-8c79-e6ece52d5da3"
   },
   "outputs": [],
   "source": [
    "print(len(trainloader))"
   ]
  },
  {
   "cell_type": "code",
   "execution_count": null,
   "metadata": {
    "colab": {
     "base_uri": "https://localhost:8080/"
    },
    "id": "Me1C0THUlOSm",
    "outputId": "bfa2ab11-8730-4451-c1d7-a3db57b7ab43"
   },
   "outputs": [],
   "source": [
    "dataiter = iter(trainloader)\n",
    "images, labels = dataiter.__next__()\n",
    "print(images.shape)"
   ]
  },
  {
   "cell_type": "code",
   "execution_count": null,
   "metadata": {
    "id": "3R3XRbXBlOSm"
   },
   "outputs": [],
   "source": [
    "def show_tensor_images(tensor_img, num_images = 16, size=(1, 28, 28)):\n",
    "    unflat_img = tensor_img.detach().cpu()\n",
    "    img_grid = make_grid(unflat_img[:num_images], nrow=4)\n",
    "    plt.imshow(img_grid.permute(1, 2, 0).squeeze())\n",
    "    plt.show()"
   ]
  },
  {
   "cell_type": "code",
   "execution_count": null,
   "metadata": {
    "colab": {
     "base_uri": "https://localhost:8080/",
     "height": 452
    },
    "id": "iVLG2TA4lOSm",
    "outputId": "d9451d2c-a7fe-4e2c-f844-89388bb25d32"
   },
   "outputs": [],
   "source": [
    "show_tensor_images(images, num_images=20)"
   ]
  },
  {
   "cell_type": "code",
   "execution_count": null,
   "metadata": {
    "id": "4VpIDdx9lOSn"
   },
   "outputs": [],
   "source": [
    "def get_disc_block(in_channels, out_channels, kernel_size, stride):\n",
    "    return nn.Sequential(\n",
    "        nn.Conv2d(in_channels, out_channels, kernel_size, stride),\n",
    "        nn.BatchNorm2d(out_channels),\n",
    "        nn.LeakyReLU(0.2)\n",
    "    )"
   ]
  },
  {
   "cell_type": "code",
   "execution_count": null,
   "metadata": {
    "id": "Bq_aX7EslOSo"
   },
   "outputs": [],
   "source": [
    "class Discriminator(nn.Module):\n",
    "    def __init__(self):\n",
    "        super(Discriminator, self).__init__()\n",
    "        self.block_1 = get_disc_block(1, 16, (3,3), 2)\n",
    "        self.block_2 = get_disc_block(16, 32, (5,5), 2)\n",
    "        self.block_3 = get_disc_block(32, 64, (5,5), 2)\n",
    "\n",
    "        self.flatten = nn.Flatten()\n",
    "        self.linear = nn.Linear(in_features = 64, out_features = 1)\n",
    "\n",
    "    def forward(self, images):\n",
    "      x1 = self.block_1(images)\n",
    "      x2 = self.block_2(x1)\n",
    "      x3 = self.block_3(x2)\n",
    "      x4 = self.flatten(x3)\n",
    "      x5 = self.linear(x4)\n",
    "      return x5"
   ]
  },
  {
   "cell_type": "code",
   "execution_count": null,
   "metadata": {
    "colab": {
     "base_uri": "https://localhost:8080/"
    },
    "id": "RqZFM47slOSo",
    "outputId": "19356a59-363a-48fc-b784-e044ea25f344"
   },
   "outputs": [],
   "source": [
    "D = Discriminator()\n",
    "D.to(device)\n",
    "summary(D, (1, 28, 28))"
   ]
  },
  {
   "cell_type": "code",
   "execution_count": null,
   "metadata": {
    "id": "rmGinLUjlOSp"
   },
   "outputs": [],
   "source": [
    "def get_gen_block(in_channels, out_channels, kernel_size, stride, final_block = False):\n",
    "  if final_block:\n",
    "    return nn.Sequential(\n",
    "        nn.ConvTranspose2d(in_channels, out_channels, kernel_size, stride),\n",
    "        nn.Tanh()\n",
    "    )\n",
    "  return nn.Sequential(\n",
    "      nn.ConvTranspose2d(in_channels, out_channels, kernel_size, stride),\n",
    "      nn.BatchNorm2d(out_channels),\n",
    "      nn.ReLU()\n",
    "  )"
   ]
  },
  {
   "cell_type": "code",
   "execution_count": null,
   "metadata": {
    "id": "qNcWK2malOSq"
   },
   "outputs": [],
   "source": [
    "class Generator(nn.Module):\n",
    "\n",
    "  def __init__(self):\n",
    "    super(Generator, self).__init__()\n",
    "\n",
    "    self.noise_dim = noise_dim\n",
    "    self.block_1 = get_gen_block(noise_dim, 256, (3,3), 2)\n",
    "    self.block_2 = get_gen_block(256, 128, (4,4), 1)\n",
    "    self.block_3 = get_gen_block(128, 64, (3,3), 2)\n",
    "    self.block_4 = get_gen_block(64, 1, (4,4), 2, final_block = True)\n",
    "\n",
    "  def forward(self, noise):\n",
    "\n",
    "    x = noise.view(-1, noise_dim, 1, 1)\n",
    "\n",
    "    x1 = self.block_1(x)\n",
    "    x2 = self.block_2(x1)\n",
    "    x3 = self.block_3(x2)\n",
    "    x4 = self.block_4(x3)\n",
    "\n",
    "    return x4"
   ]
  },
  {
   "cell_type": "code",
   "execution_count": null,
   "metadata": {
    "colab": {
     "base_uri": "https://localhost:8080/"
    },
    "id": "pyOp5x61lOSr",
    "outputId": "7bf61d7b-8fea-40f2-b559-b755cb967fcc"
   },
   "outputs": [],
   "source": [
    "G = Generator()\n",
    "G.to(device)\n",
    "summary(G, input_size = (1, noise_dim))"
   ]
  },
  {
   "cell_type": "code",
   "execution_count": null,
   "metadata": {
    "id": "I6v-NfQlVy8v"
   },
   "outputs": [],
   "source": [
    "def weights_init(m):\n",
    "    if isinstance(m, nn.Conv2d) or isinstance(m, nn.ConvTranspose2d):\n",
    "        nn.init.normal_(m.weight, 0.0, 0.02)\n",
    "    if isinstance(m, nn.BatchNorm2d):\n",
    "        nn.init.normal_(m.weight, 0.0, 0.02)\n",
    "        nn.init.constant_(m.bias, 0)"
   ]
  },
  {
   "cell_type": "code",
   "execution_count": null,
   "metadata": {
    "id": "cpMoglmaUPnt"
   },
   "outputs": [],
   "source": [
    "D = D.apply(weights_init)\n",
    "G = G.apply(weights_init)"
   ]
  },
  {
   "cell_type": "code",
   "execution_count": null,
   "metadata": {
    "id": "bOvcqBuylOSs"
   },
   "outputs": [],
   "source": [
    "def real_loss(disc_pred):\n",
    "  criterion = nn.BCEWithLogitsLoss()\n",
    "  ground_truth = torch.ones_like(disc_pred)\n",
    "  loss = criterion(disc_pred, ground_truth)\n",
    "  return loss\n",
    "\n",
    "def fake_loss(disc_pred):\n",
    "  criterion = nn.BCEWithLogitsLoss()\n",
    "  ground_truth = torch.zeros_like(disc_pred)\n",
    "  loss = criterion(disc_pred, ground_truth)\n",
    "  return loss"
   ]
  },
  {
   "cell_type": "code",
   "execution_count": null,
   "metadata": {
    "id": "96EEpkp9lOSs"
   },
   "outputs": [],
   "source": [
    "D_opt = torch.optim.Adam(D.parameters(), lr = lr, betas = (beta_1, beta_2))\n",
    "G_opt = torch.optim.Adam(G.parameters(), lr = lr, betas = (beta_1, beta_2))"
   ]
  },
  {
   "cell_type": "code",
   "execution_count": null,
   "metadata": {
    "colab": {
     "base_uri": "https://localhost:8080/",
     "height": 1000,
     "referenced_widgets": [
      "626110606b1348229781a3ec35007c09",
      "049d8c72eb994db6bc94fcdf9da71b5a",
      "eb99a76c08f14e11988aa992cbbaf6e1",
      "aa7115e79d5549cf8b22b519b8b928a5",
      "e4c7bdde47114ddb975ced9a093e67df",
      "6588ac607eb249ac91726a6f5cfe813f",
      "e5e0cc904dfc4a8c88c15873e41e6643",
      "6ba3a4a62f8a4b3d81b8d1c2970eaefa",
      "6c20663073fe4214931758f1c83fd73f",
      "6802155a2af344e2b3c6868faa89b491",
      "4bdf1fcf1c7443f69c4e07ff50bb23db",
      "d074d21d1e46460b8077c8be252b8bdb",
      "4f21eea6164c4dd5ac8f84abf6d33abd",
      "36a1f4da7298477cb4cfc3faf60191e6",
      "0cc1463848974efeb82e427e63c345b0",
      "2113bc39fdfb45f98a63fc1304e5533e",
      "e4cfce57f5fe456c8cdb0107eb818595",
      "579c01dfb7584812a4a590ef46c9ff76",
      "b704f0041d724b32a993f7a14510c634",
      "bf4f4f194add450bb689002321f0dc1c",
      "e5172eeb57dc46918cbe663c57266718",
      "805684f3c89541fe97c3456c7dae09e4",
      "b2c5dab3a2d64b4089ead5c82a6d7d74",
      "ba4c173220d145a5bb234538c33ef17e",
      "a66adba73c6841d7a063c5e40b67ea18",
      "e967ca61b72d4e10a31798b526b37cb5",
      "c0e310e138b945019ece52ddc35f2e1d",
      "0c6a2d873d5441f9be6b2c4877dad07f",
      "aefe56ece71a4ef280943d126c0b1eb8",
      "13ff32b33e884b78b5db89f18768b6df",
      "e9e56d75e5ee4e83af25e27cc67af042",
      "bdb46e835f564926a65bed70e1cbc194",
      "e863e49bc76748deb61a2611f6e00acd",
      "c98fa652db7f439bb1e68074e11dcdd8",
      "12691abd48b2413fb351dfa1199964b7",
      "45ad15851a164f18bc550597468082ab",
      "097a9cae83d640c09658aa27ba56a4ae",
      "80ae4510ee654020ab3222ea3a8ec12d",
      "0544f199cdd24734b85c5661c2edaadb",
      "27421f3bb51c4f18af0c892bb3cc08bb",
      "ebebc8d5cac44d8087f83d1ae71d4a3a",
      "94f7101652814adcb7c707893a766da3",
      "6e6e5944d6214f959087022391ba4f97",
      "558914aa8611497cb61d416afb13b520",
      "5fa83d7d6ab94b2a83cacb5199787c30",
      "51c08b52c4c9450fa7b2726f1e24b6eb",
      "da6c94621c5c459da04fdabf8e0f8978",
      "1eb75ccefe644a1b945541864234d951",
      "538075bc8e5a482da8b0834e522ccfa4",
      "3c2ec3b718314400bc770b1b6d8b9432",
      "094ac369a5ff40fa9c71c7532ee9b459",
      "57e39e7715c6447cb3b9bd5622d0e787",
      "8bdeeb043b484421a77fdcac9f207cec",
      "775ed76920f84cf39de618abbf2e314e",
      "6b9bc484fc0d476f927140676bb70056",
      "1a86f67160214832bd44eea946c33810",
      "5a94a09a7093437aa2ca671b7a91adb7",
      "e28bc4927334408ea68635aba2b05340",
      "bea315ab66f04f59959d505e4a04fc3b",
      "24d2d5c0d1f74db3b0738ef4334121d2",
      "dd95b072ffa04824952e4e356d013714",
      "685def8e0e08493a9d60eebd25ba6c58",
      "765f86a9465e485593f74b40ea40c239",
      "34a9f9347c834f5cbf4de534316b85ea",
      "25c90620150a4f20a22aa5bc0ffd0bcd",
      "666f4f526d864e88906fe56601eb2ff4",
      "8910b19e8dab4c19b85d7c35ce6f33d4",
      "d6ca21548a244633b2bdd86a88d080ce",
      "c77680ee48e54ecb8735a9edfe4527f3",
      "0a7b7055ded9498c8fc175cf4d52f0aa",
      "9339a0ce80254c9487a64a72b8c991ef",
      "f002a54121e64b3a84feeda97f11abb8",
      "412362da95f84438aaf4025e40619cb4",
      "33bf598b881e4e0abe2ba2c519f2a75b",
      "1a2f87ed010a464db9be8a5f6db8017f",
      "18d3063e4c3f4f98b478c54429c59e72",
      "8c3a866b68e04af79aa484c0bb14fcec",
      "74ea8ad2dbc54cb488a7dd156e8d48a6",
      "fb860f8bc8374f13a69c758e84947a06",
      "2365334d7a4745c9ba1a928af5ace2df",
      "d00108b30ffd48cf89912991a474a669",
      "4151d5f8501a4ebcab34c8072ee00bb7",
      "ab2363470a204ecc88e4bcf1a5cec5b6",
      "8884144b44464dba80814e1bd113869a",
      "6749e57c31ea4e55afa4eb65a2a087d9",
      "bae29d39d1a84dfc95ebdf213cf70a55",
      "4acd01bc21f34b068dc057295c036cd1",
      "1cd8d48e72fc4664970e841fe417fa6d",
      "3b03bea5bc014b0b8a7fef84f77cbc7f",
      "ecb9d9a8e9d747d39a7bf18ee671fb68",
      "9b68fc7d75204ffba147784c6931e039",
      "578d28438d524ebca2e3e0b15b2b478e",
      "a8afe9cf627b48f38ee0becc5a9e8df5",
      "abab6fdf5d46437aab2749a3b6552d0c",
      "6a9eb90d38d64b2db0ceade2a14f0d78",
      "92dd42eecbf34cd69b8ddf6516e90799",
      "fc1f1b1ba9d54a7f8e3876aeff12c60d",
      "f9100c9a38c345ebbe79915ac57c09a0",
      "9863cea732394b049210d95f9f404e1d",
      "c7dd0bfc281340e3a85d1444483553d8",
      "4838aa6c0e6b4beb98dd13aa85297fb2",
      "d1570f9fbc224b72807c656d122b8443",
      "4754ae64cb2a46b7a4ea78f39627016e",
      "b75f5bd9e4a9424ca8bfd4ac7d9d184e",
      "33b9335cb4d44c0c929ddbe5e24bd03e",
      "16b11c4667be489bb9263f00257f068d",
      "f176aefa791641338db1937fab2e297a",
      "341693fdbb1040879cb68406c7c9469c",
      "70e74daaa14e4bfbbd9a9307ecc17edb",
      "2cc73566dffd4d15854c836e540d4f05",
      "62bd7808f40b46aeb9f4cc6565472f1e",
      "e39c7d083b1f4baba4507952c5ee538e",
      "143da7d59134413e9d3de363e14cb328",
      "f92ee9d85f814c6ab5b30be522396ec5",
      "48de2b57e2364b868ba81ee1806d79d9",
      "dc47964e8eb04afa91541c25fea54540",
      "d5830034a57b45748eacba2444b184d3",
      "2ed18b27ef5c41cf93e8618f265c502a",
      "3bdc96e77feb43238497ef339ee5f74a",
      "b8451029b1654e8abfa9b32ad571690a",
      "1c2b5483664f4cd68fe7ce9399e92a98",
      "4aa03e3e79c44f58bb605fbbae150161",
      "0682c070adcb49678c0d851e091e9b7d",
      "3e8e09adb67946d28f9d069e7c610149",
      "6d5b15dbd35b4a578cfb80182567ea66",
      "ef2f8ca0bdb74b63bc195b9901060496",
      "82e604e06a8c4115ae68daf0e45b5dd1",
      "a14fa32daca341b49133489197e8d33d",
      "c4ab64e7c50241a4aabc29c27e754301",
      "df902ed8a3bd40cdb445a1d4c2c130f4",
      "19be109256b34940abc31099844ad8e1",
      "9e901dfa7ff340aabee1c94b5d69a0e8",
      "719dc4ff007d4b9896cc5f4759140d80",
      "77c0e75e13344255812b327ecb3bb63a",
      "9cd8755371194e579a553fb6bed1d277",
      "b967d5957e034eb28b24f8e9d4f676e0",
      "78680aae5d504ed992e8befd1924ff50",
      "3ecb6356d2ec4a9ebc78b77eca517eb8",
      "96396d9ccc7d4c16a9096790717f7429",
      "95fc4dca2cec4560a1ee9a06d5a95dda",
      "b45aa01415a3409780c78b29ba191694",
      "2084309fd91e4b158ace67713910cbbd",
      "6cbf74c1ef8b4bb4863396fa6d7cad4c",
      "5638a2c111654543be9e227bb28d3838",
      "90a2e46fe0ca4fb1a038bed7e358bbe3",
      "1f7a916a9e224619ad15b794bab74024",
      "74e17e696c674319a0c44d2e421c9499",
      "43738159c6834eebb3f8b8ea9d984863",
      "21dc73d85753470f834614f3f9097515",
      "0f68a143375d42e19034551ba6f09085",
      "f03232d1c0a64b719190fc33a6dbfc4d",
      "f43c58a329754ee187733c6bd03d5db4",
      "e73f406c345a4a9298932eca15aac1c8",
      "b73321058ad643af8cc534d8882c9022",
      "0ccc17dff8c74ab3a6e4411149b47184",
      "f626f2b3ef374478921838e02eba1f9c",
      "ffc421d6ffc44f929349ea24d43c640f",
      "3d0b1c55378c4f6dba3c71a11ece21ca",
      "15946748fda64feba1b39fcc96136e93",
      "1c7e5fe47fb14b1896c4866760730d84",
      "d84fa5ce48094baaaaedd799b8c1a80b",
      "b8d0e2a69fda4d3fa8a19be8b0dcdaef",
      "954e982fbd0e4484bd65b3bac4fb7d64",
      "6243936f8e3d4843848675e695ee25fb",
      "4dd83a2be73c49a4a1a9a0b0bdbb2b94",
      "23107aa992dd4f5485ee1c34d73b5ba0",
      "fbba452d1b294e38a85473cc8e1cf52a",
      "0487d97e56584744994fab66100a3192",
      "734b3db7b6344515933afe1e6e5bcf03",
      "90d212657f5c45239614c1d751b5c577",
      "5f9cdad48ec248799f158486b267f2c9",
      "a36bd65b28464dfb8da2ebbc3e24d1b0",
      "98869a294c9746808f96eecc1d3578be",
      "89ca82c6b68a467cb055e82fadea1f0e",
      "cf0a40381ca34855b2ee89273c8f8d43",
      "c753e67e5fea4fe3aef4a7189101be2c",
      "37ecf3a067cf428aab2b7d4b38914204",
      "907c670043a94db2adaa21f21aea1f08",
      "cc6fbf2051cc49a5a42395f40746a590",
      "aea9dcf39126482a82ce933d01354883",
      "8d91baa5e8b840569d86a600fd054874",
      "90ca934c8bba4b0fbdd3411aa64f7f3a",
      "50ad202b09054aae88091065fa42fbfc",
      "d6787d57b90a4cb19d8b03dbcbf49d9d",
      "5934ddc1d3e74b9dad3bfaf1ac2702c1",
      "9809a657d6b04dc5a36fa1c2dfab7758",
      "914ff6efd49e4ea69d1e5cb11bdf5fd3",
      "86437321e6cb469fae6b8b1031e68294",
      "f9ad9fdd03bc4f2a8f54282bfaa9a6d8",
      "2c06cdf2894d4fb1abb030736b41ded3",
      "b244ae94e073492e9c0f473a51b34c15",
      "f75251d7fba847a68ad6e8b4043f8d6e",
      "0384e99b196442a5a53f13355132749f",
      "c8e93c1e37c745c8a544d2c3da77f7cd",
      "39d93ae87ef1439fb6debb98f74750d9",
      "8d25257090b743cb8e3c2800e7bc2dab",
      "72b030bb358e411ebd87e897787cc29d",
      "91fbeaf9a68641d58c7a6f0c241d160a",
      "4e2cffc0373a49a782eecf3d78c69955",
      "fdbe53432d014958add8a87d3b065621",
      "2862dbf327b743628312b7e94cb2bff0",
      "a7544f748a39411fa19635b759f60cf9",
      "7e2054d004374682bcc123402f3d0ee4",
      "5fd77a92fe1e40e3924c2168c37ed58c",
      "8af794129c3d4d2dbbf7fac9bcc16b9b",
      "b298ba21a7f34dd7b7e60859f84b9994",
      "e9c76f8908bf4eaf8e911fce65bd4a54",
      "b862c3a893cb4613b9badcac03761764",
      "0780c6d52f8d406e87ed1b82d0e873c3",
      "dcf8c383efe248cdb9ac0db646dee3a1",
      "4408d18df5094271ab9200b84aa540c7",
      "0d2e5685b37b46e18bb292dede83a7a2",
      "c7abceb6b57d4c0b8e4a6136ff73cf43",
      "8f3c2782292a4eab8ad9bb32a2ccd077",
      "a7d9c95e514f475699b2197e82ba6798",
      "722f1a4aa2744511957df6ab12a8022a",
      "74713160835349e89547ae4d7070daa7",
      "4fcabf73aea24846990e6433f63dd711",
      "671d52a3ee4747698e3275405047a34b",
      "a616700e5eff4033ba5766180082442c"
     ]
    },
    "id": "TmPLh41ulOSt",
    "outputId": "d1823207-b0c3-4dec-8676-70b60c22ea01"
   },
   "outputs": [],
   "source": [
    "for i in range(epochs):\n",
    "  total_d_loss = 0.0\n",
    "  total_g_loss = 0.0\n",
    "  for real_images, _ in tqdm(trainloader):\n",
    "    real_images = real_images.to(device)\n",
    "    noise = torch.randn(batch_size, noise_dim, device = device)\n",
    "\n",
    "    D_opt.zero_grad()\n",
    "\n",
    "    fake_images = G(noise)\n",
    "    D_pred = D(fake_images)\n",
    "    D_fake_loss = fake_loss(D_pred)\n",
    "\n",
    "    D_pred = D(real_images)\n",
    "    D_real_loss = real_loss(D_pred)\n",
    "\n",
    "    D_loss = (D_fake_loss + D_real_loss)/2\n",
    "    total_d_loss += D_loss.item()\n",
    "\n",
    "    D_loss.backward()\n",
    "    D_opt.step()\n",
    "\n",
    "    G_opt.zero_grad()\n",
    "\n",
    "    noise = torch.randn(batch_size, noise_dim, device = device)\n",
    "\n",
    "    fake_images = G(noise)\n",
    "    D_pred = D(fake_images)\n",
    "    G_loss = real_loss(D_pred)\n",
    "\n",
    "    total_g_loss += G_loss.item()\n",
    "\n",
    "    G_loss.backward()\n",
    "    G_opt.step()\n",
    "\n",
    "  avg_d_loss = total_d_loss/len(trainloader)\n",
    "  avg_g_loss = total_g_loss/len(trainloader)\n",
    "\n",
    "  print(\"Epoch = {}, Discriminator_Loss = {}, Generator_Loss = {}\".format(i + 1, avg_d_loss, avg_g_loss))\n",
    "\n",
    "  show_tensor_images(fake_images)"
   ]
  },
  {
   "cell_type": "code",
   "execution_count": null,
   "metadata": {
    "colab": {
     "base_uri": "https://localhost:8080/",
     "height": 452
    },
    "id": "r1IjTM2sliWa",
    "outputId": "44be38e7-8279-46c5-ecb8-186e464e8aea"
   },
   "outputs": [],
   "source": [
    "noise = torch.randn(batch_size, noise_dim, device = device)\n",
    "generated_image = G(noise)\n",
    "show_tensor_images(generated_image)"
   ]
  }
 ],
 "metadata": {
  "accelerator": "GPU",
  "colab": {
   "gpuType": "T4",
   "provenance": []
  },
  "kernelspec": {
   "display_name": "Python 3",
   "name": "python3"
  },
  "language_info": {
   "codemirror_mode": {
    "name": "ipython",
    "version": 3
   },
   "file_extension": ".py",
   "mimetype": "text/x-python",
   "name": "python",
   "nbconvert_exporter": "python",
   "pygments_lexer": "ipython3",
   "version": "3.8.6"
  }
 },
 "nbformat": 4,
 "nbformat_minor": 0
}
